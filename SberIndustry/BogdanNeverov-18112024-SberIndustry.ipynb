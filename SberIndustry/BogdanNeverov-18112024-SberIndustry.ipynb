{
 "cells": [
  {
   "cell_type": "markdown",
   "metadata": {},
   "source": [
    "1.\tPython \n",
    "1)\tНаписать на python генератор первых n чисел фибоначи.\n"
   ]
  },
  {
   "cell_type": "code",
   "execution_count": null,
   "metadata": {},
   "outputs": [],
   "source": [
    "def fibonacci_generator(n):\n",
    "    fibonacci = [0, 1]\n",
    "    for i in range(0,n):\n",
    "        fibonacci.append(fibonacci[i] + fibonacci[i+1])\n",
    "    return fibonacci"
   ]
  },
  {
   "cell_type": "markdown",
   "metadata": {},
   "source": [
    "2.\tНаписать Sql-запросы\n",
    "1)\tВывести отдел с наибольшим числом сотрудников;\n",
    "2)\tВывести список сотрудников, получающих заработную плату выше, чем у руководителя;\n"
   ]
  },
  {
   "cell_type": "code",
   "execution_count": null,
   "metadata": {},
   "outputs": [],
   "source": [
    "%%sql sqlite://\n",
    "SELECT \n",
    "    d.name AS department_name,\n",
    "    COUNT(p.id) AS employee_count\n",
    "FROM \n",
    "    Department d\n",
    "JOIN \n",
    "    Personal p ON d.id = p.id_dep\n",
    "GROUP BY \n",
    "    d.id, d.name\n",
    "ORDER BY \n",
    "    employee_count DESC\n",
    "LIMIT 1;"
   ]
  },
  {
   "cell_type": "code",
   "execution_count": null,
   "metadata": {},
   "outputs": [],
   "source": [
    "%%sql sqlite://\n",
    "SELECT \n",
    "    emp.id AS employee_id,\n",
    "    emp.name AS employee_name,\n",
    "    emp.sal AS employee_salary,\n",
    "    mgr.name AS manager_name,\n",
    "    mgr.sal AS manager_salary\n",
    "FROM \n",
    "    Personal emp\n",
    "JOIN \n",
    "    Personal mgr ON emp.id_head = mgr.id\n",
    "WHERE \n",
    "    emp.sal > mgr.sal;"
   ]
  },
  {
   "cell_type": "markdown",
   "metadata": {},
   "source": [
    "3.\tЗадачка на определение отрасли компании"
   ]
  },
  {
   "cell_type": "code",
   "execution_count": null,
   "metadata": {},
   "outputs": [],
   "source": [
    "import pandas as pd\n",
    "import numpy as np\n",
    "from sklearn.model_selection import train_test_split\n",
    "from sklearn.ensemble import RandomForestClassifier\n",
    "from sklearn.metrics import classification_report, f1_score\n",
    "from lightgbm import LGBMClassifier\n",
    "\n",
    "#Загрузим данные\n",
    "pays = pd.read_csv('pays.csv')\n",
    "inn_info = pd.read_csv('inn_info_public.csv')\n",
    "\n",
    "#Объединеним данные\n",
    "pays_agg = pays.groupby('hash_inn_kt').agg({\n",
    "    'count': ['mean', 'sum'], \n",
    "    'sum': ['mean', 'sum'],\n",
    "    'week': 'nunique'\n",
    "}).reset_index()\n",
    "pays_agg.columns = ['hash_inn'] + [f'feature_{i}' for i in range(len(pays_agg.columns)-1)]\n",
    "data = pd.merge(inn_info, pays_agg, how='left', on='hash_inn')\n",
    "\n",
    "#Обработаем целевую переменную\n",
    "data_train = data[data['okved2'] != -1]\n",
    "data_test = data[data['okved2'] == -1]\n",
    "\n",
    "#Разделим данные на X и y\n",
    "X = data_train.drop(columns=['okved2', 'hash_inn'])\n",
    "y = data_train['okved2']\n",
    "X_test = data_test.drop(columns=['okved2', 'hash_inn'])\n",
    "\n",
    "#Обученим модели\n",
    "X_train, X_val, y_train, y_val = train_test_split(X, y, test_size=0.25, stratify=y, random_state=42)\n",
    "model = LGBMClassifier()\n",
    "model.fit(X_train, y_train)\n",
    "\n",
    "#Оценим модель\n",
    "y_pred = model.predict(X_val)\n",
    "\n",
    "#Предсказание модели\n",
    "data_test['y'] = model.predict(X_test)\n",
    "data_test['okved2_prob'] = model.predict_proba(X_test).max(axis=1)\n",
    "\n",
    "#Отсортируем данные по столбцу 'hash_inn' в порядке возрастания и сохраним\n",
    "sorted_data_test = data_test[['hash_inn', 'y']].sort_values(by='hash_inn', ascending=True)\n",
    "sorted_data_test.to_csv('BogdanNeverov-18112024-SberIndustry.csv', index=False)\n",
    "\n",
    "#Отсортируем данные по столбцу 'hash_inn' в порядке возрастания и сохраним\n",
    "submission = data_test[['hash_inn', 'y', 'okved2_prob']].sort_values(by='hash_inn') \n",
    "submission.to_csv('submission-BogdanNeverov-18112024-SberIndustry.csv', index=False)"
   ]
  }
 ],
 "metadata": {
  "kernelspec": {
   "display_name": "Python 3",
   "language": "python",
   "name": "python3"
  },
  "language_info": {
   "codemirror_mode": {
    "name": "ipython",
    "version": 3
   },
   "file_extension": ".py",
   "mimetype": "text/x-python",
   "name": "python",
   "nbconvert_exporter": "python",
   "pygments_lexer": "ipython3",
   "version": "3.11.8"
  }
 },
 "nbformat": 4,
 "nbformat_minor": 2
}
